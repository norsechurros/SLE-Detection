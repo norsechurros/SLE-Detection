{
 "cells": [
  {
   "cell_type": "markdown",
   "id": "14f161d1-6fe5-41b9-abda-bdd249490b75",
   "metadata": {},
   "source": [
    "Step 1: Load and Inspect Data"
   ]
  },
  {
   "cell_type": "code",
   "execution_count": null,
   "id": "0c8085cb-4b9a-4e3e-8637-93cd06e0772d",
   "metadata": {},
   "outputs": [],
   "source": [
    "import pandas as pd"
   ]
  },
  {
   "cell_type": "code",
   "execution_count": 1,
   "id": "e602b5cf-4ecb-424b-b3b6-cb4c81f94a92",
   "metadata": {},
   "outputs": [
    {
     "ename": "NameError",
     "evalue": "name 'pd' is not defined",
     "output_type": "error",
     "traceback": [
      "\u001b[0;31m---------------------------------------------------------------------------\u001b[0m",
      "\u001b[0;31mNameError\u001b[0m                                 Traceback (most recent call last)",
      "Cell \u001b[0;32mIn[1], line 2\u001b[0m\n\u001b[1;32m      1\u001b[0m \u001b[38;5;66;03m# Load the dataset\u001b[39;00m\n\u001b[0;32m----> 2\u001b[0m data \u001b[38;5;241m=\u001b[39m \u001b[43mpd\u001b[49m\u001b[38;5;241m.\u001b[39mread_csv(\u001b[38;5;124m\"\u001b[39m\u001b[38;5;124mGSE121239_enriched_expression_data.csv\u001b[39m\u001b[38;5;124m\"\u001b[39m)\n\u001b[1;32m      4\u001b[0m \u001b[38;5;66;03m# Inspect data\u001b[39;00m\n\u001b[1;32m      5\u001b[0m \u001b[38;5;28mprint\u001b[39m(data\u001b[38;5;241m.\u001b[39minfo())\n",
      "\u001b[0;31mNameError\u001b[0m: name 'pd' is not defined"
     ]
    }
   ],
   "source": [
    "# Load the dataset\n",
    "data = pd.read_csv(\"GSE121239_enriched_expression_data.csv\")\n",
    "\n",
    "# Inspect data\n",
    "print(data.info())\n",
    "print(data.head())"
   ]
  },
  {
   "cell_type": "markdown",
   "id": "05debfff-ac4a-47fd-a63e-c57e7d1d7f0b",
   "metadata": {},
   "source": []
  },
  {
   "cell_type": "code",
   "execution_count": null,
   "id": "05e54cbc-07a3-485b-b9ac-4e37c12f30a9",
   "metadata": {},
   "outputs": [],
   "source": [
    "# Drop genes with >30% missing values\n",
    "data = data.dropna(thresh=len(data.columns) * 0.7, axis=0)\n",
    "\n",
    "# Impute missing values with mean\n",
    "data.fillna(data.mean(), inplace=True)\n"
   ]
  },
  {
   "cell_type": "markdown",
   "id": "536da6dc-9677-4646-a465-60126179064c",
   "metadata": {},
   "source": []
  },
  {
   "cell_type": "code",
   "execution_count": null,
   "id": "8d961279-d08d-49bc-9490-4062e094b348",
   "metadata": {},
   "outputs": [],
   "source": [
    "from sklearn.preprocessing import StandardScaler\n",
    "\n",
    "# Select numerical columns for normalization\n",
    "expression_values = data.iloc[:, 1:-1]  # Exclude ID_REF and metadata columns\n",
    "scaler = StandardScaler()\n",
    "data_normalized = scaler.fit_transform(expression_values)\n",
    "\n",
    "# Replace original values with normalized values\n",
    "data.iloc[:, 1:-1] = data_normalized"
   ]
  },
  {
   "cell_type": "markdown",
   "id": "6fb23ecd-7899-4b3f-8c65-3ac893f5b4d0",
   "metadata": {},
   "source": []
  },
  {
   "cell_type": "code",
   "execution_count": null,
   "id": "8e2d5c82-31f9-4875-ab86-9689171a6e6b",
   "metadata": {},
   "outputs": [],
   "source": [
    "from sklearn.model_selection import train_test_split\n",
    "\n",
    "# Add labels (e.g., Healthy=0, SLE=1)\n",
    "data[\"Label\"] = data[\"Sample\"].apply(lambda x: 0 if \"Healthy\" in x else 1)\n",
    "\n",
    "# Split data into training and test sets\n",
    "X = data.drop(columns=[\"Label\", \"Sample\", \"ID_REF\"])\n",
    "y = data[\"Label\"]\n",
    "\n",
    "X_train, X_test, y_train, y_test = train_test_split(X, y, test_size=0.2, stratify=y, random_state=42)\n"
   ]
  },
  {
   "cell_type": "code",
   "execution_count": null,
   "id": "ffeac238-fd75-4924-b741-fc64e561bb09",
   "metadata": {},
   "outputs": [],
   "source": []
  },
  {
   "cell_type": "code",
   "execution_count": null,
   "id": "7c7ccbdc-2cfc-49be-b386-53bfa42232dd",
   "metadata": {},
   "outputs": [],
   "source": []
  },
  {
   "cell_type": "code",
   "execution_count": null,
   "id": "b0f8cfb7-b9e7-4352-8a61-8f967789c1ba",
   "metadata": {},
   "outputs": [],
   "source": []
  },
  {
   "cell_type": "code",
   "execution_count": null,
   "id": "c41c6e84-ee5c-4b53-97b8-da7a5c952034",
   "metadata": {},
   "outputs": [],
   "source": []
  },
  {
   "cell_type": "code",
   "execution_count": null,
   "id": "8433e19f-46bb-4a71-b57b-587c27e4d67f",
   "metadata": {},
   "outputs": [],
   "source": []
  }
 ],
 "metadata": {
  "kernelspec": {
   "display_name": "Python 3 (ipykernel)",
   "language": "python",
   "name": "python3"
  },
  "language_info": {
   "codemirror_mode": {
    "name": "ipython",
    "version": 3
   },
   "file_extension": ".py",
   "mimetype": "text/x-python",
   "name": "python",
   "nbconvert_exporter": "python",
   "pygments_lexer": "ipython3",
   "version": "3.10.14"
  }
 },
 "nbformat": 4,
 "nbformat_minor": 5
}
